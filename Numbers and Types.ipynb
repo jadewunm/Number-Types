{
 "cells": [
  {
   "cell_type": "code",
   "execution_count": 21,
   "id": "e23c5d46-7edf-436d-bb39-584329e3ad63",
   "metadata": {},
   "outputs": [
    {
     "name": "stdout",
     "output_type": "stream",
     "text": [
      "How many seconds is in an hour?\n",
      "There are 60 seconds in a minute and 60 minutes in an hour.\n",
      "Numbers of seconds in an hour = 60 * 60 = 3600 seconds\n"
     ]
    }
   ],
   "source": [
    "print(\"How many seconds is in an hour?\")\n",
    "M = 60 # Minutes in hours\n",
    "S = 60 # Minutes in seconds\n",
    "H = M * S # Calculate seconds in hour\n",
    "print(f\"There are {S} seconds in a minute and {M} minutes in an hour.\");\n",
    "print(f\"Numbers of seconds in an hour = {M} * {S} = {H} seconds\")"
   ]
  },
  {
   "cell_type": "code",
   "execution_count": 25,
   "id": "77d8a706-cdac-4b50-a2bf-ff1430893edf",
   "metadata": {},
   "outputs": [
    {
     "name": "stdout",
     "output_type": "stream",
     "text": [
      "seconds per hour = 3600 seconds\n"
     ]
    }
   ],
   "source": [
    "H = 3600 # Seconds in an hour\n",
    "print (f\"seconds per hour = {H} seconds\")"
   ]
  },
  {
   "cell_type": "code",
   "execution_count": 39,
   "id": "9283b68c-a98b-444c-b293-febc1ddd3133",
   "metadata": {},
   "outputs": [
    {
     "name": "stdout",
     "output_type": "stream",
     "text": [
      "How many seconds in a day?\n",
      "Number of seconds in a day = 24 * 3600 = 86400 seconds \n"
     ]
    }
   ],
   "source": [
    "print(\"How many seconds in a day?\")\n",
    "hours_in_day= 24 # Number of hours in a day\n",
    "seconds_per_hour = 3600 \n",
    "seconds_in_a_day = hours_in_day * seconds_per_hour\n",
    "print(f\"Number of seconds in a day = {hours_in_day } * {seconds_per_hour} = {seconds_in_a_day} seconds \")"
   ]
  },
  {
   "cell_type": "code",
   "execution_count": 47,
   "id": "d5f12b6e-8166-431f-afb6-b1378d7670bf",
   "metadata": {},
   "outputs": [
    {
     "name": "stdout",
     "output_type": "stream",
     "text": [
      "Seconds per day = 24 * 3600 = 86400 per day\n"
     ]
    }
   ],
   "source": [
    "hours_in_a_day = 24\n",
    "seconds_per_hour = 3600\n",
    "seconds_in_a_day = hours_in_day * seconds_per_hour\n",
    "print(f\"Seconds per day = {hours_in_day} * {seconds_per_hour} = {seconds_in_a_day} per day\")"
   ]
  },
  {
   "cell_type": "code",
   "execution_count": 54,
   "id": "e04062ff-2c29-410c-81df-357053908b63",
   "metadata": {},
   "outputs": [
    {
     "name": "stdout",
     "output_type": "stream",
     "text": [
      "Answer = 86400 / 3600 = 24.0\n"
     ]
    }
   ],
   "source": [
    "seconds_per_day = 86400\n",
    "seconds_per_hour = 3600\n",
    "Division = seconds_per_day / seconds_per_hour\n",
    "print(f\"Answer = {seconds_per_day} / {seconds_per_hour} = {Division}\")"
   ]
  },
  {
   "cell_type": "code",
   "execution_count": 56,
   "id": "b7256b49-9d32-419f-adc3-e786aca18bee",
   "metadata": {},
   "outputs": [
    {
     "name": "stdout",
     "output_type": "stream",
     "text": [
      "Answer = 86400 // 3600 = 24\n"
     ]
    }
   ],
   "source": [
    "seconds_per_day = 86400\n",
    "seconds_per_hour = 3600\n",
    "Division = seconds_per_day // seconds_per_hour\n",
    "print(f\"Answer = {seconds_per_day} // {seconds_per_hour} = {Division}\")"
   ]
  },
  {
   "cell_type": "code",
   "execution_count": null,
   "id": "af2dd4ce-8c19-41ec-8d10-aeb165221458",
   "metadata": {},
   "outputs": [],
   "source": []
  }
 ],
 "metadata": {
  "kernelspec": {
   "display_name": "Python 3 (ipykernel)",
   "language": "python",
   "name": "python3"
  },
  "language_info": {
   "codemirror_mode": {
    "name": "ipython",
    "version": 3
   },
   "file_extension": ".py",
   "mimetype": "text/x-python",
   "name": "python",
   "nbconvert_exporter": "python",
   "pygments_lexer": "ipython3",
   "version": "3.12.7"
  }
 },
 "nbformat": 4,
 "nbformat_minor": 5
}
